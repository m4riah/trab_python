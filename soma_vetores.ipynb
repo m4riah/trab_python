{
  "nbformat": 4,
  "nbformat_minor": 0,
  "metadata": {
    "colab": {
      "provenance": [],
      "authorship_tag": "ABX9TyNMGghCrEx/m6eCC8/+FtDB",
      "include_colab_link": true
    },
    "kernelspec": {
      "name": "python3",
      "display_name": "Python 3"
    },
    "language_info": {
      "name": "python"
    }
  },
  "cells": [
    {
      "cell_type": "markdown",
      "metadata": {
        "id": "view-in-github",
        "colab_type": "text"
      },
      "source": [
        "<a href=\"https://colab.research.google.com/github/m4riah/trab_python/blob/main/soma_vetores.ipynb\" target=\"_parent\"><img src=\"https://colab.research.google.com/assets/colab-badge.svg\" alt=\"Open In Colab\"/></a>"
      ]
    },
    {
      "cell_type": "code",
      "execution_count": null,
      "metadata": {
        "id": "RbY_nCkEehQm"
      },
      "outputs": [],
      "source": [
        "sem1  = [10,8,9,7]\n",
        "sem2  = [8,10,7,8]\n",
        "\n",
        "def calcular_media(notas):\n",
        "  soma = sum(notas)\n",
        "  media = soma / len(notas)\n",
        "  return media\n",
        "\n",
        "media_sem1  = calcular_media(sem1)\n",
        "media_sem2  = calcular_media(sem2)\n",
        "\n",
        "media_final  = (media_sem1 + media_sem2) /2\n",
        "\n",
        "print(\"media final do estudante:\", media_final)"
      ]
    }
  ]
}